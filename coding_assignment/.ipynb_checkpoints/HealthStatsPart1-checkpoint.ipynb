{
 "cells": [
  {
   "cell_type": "markdown",
   "metadata": {},
   "source": [
    "# Health Stats Part 1: Waist 2 Hip Ratios"
   ]
  },
  {
   "cell_type": "markdown",
   "metadata": {},
   "source": [
    "<!--- Write an explanation of the Waist To Hips Ratio statistic used by health professionals. Please include an explanation of what it is used for, exactly how it is calculated, and how to interpret the results. Note: Formmatting matters. Make this as professional as you can using Markdown.  --->\n",
    "\n",
    "<!--- feel free to use any web resources, including [Wikipedia](https://en.wikipedia.org/wiki/Waist%E2%80%93hip_ratio) or any other resources that you can find online. Just MAKE SURE you provide a link to every resource you decide to use. --->\n",
    "\n",
    "<!--- Including the formula, or that fancy diagram/table you see on wikipedia is DEFINITELY a good idea! How? The LaTeX equations section in [This link](https://jupyter-notebook.readthedocs.io/en/stable/examples/Notebook/Working%20With%20Markdown%20Cells.html) might help. --->\n",
    "\n",
    "<!--- For extra points, try to create a table similar to the one on the wikipedia page on your own. --->\n",
    "\n",
    "The waist-hip ratio or waist-to-hip ratio (WHR) is the dimensionless ratio of the circumference of the waist to that of the hips. The WHR has been used as an indicator or measure of health, and the risk of developing serious health conditions. Research shows that people with \"apple-shaped\" bodies (more weight around the waist) face more health risks than those with \"pear-shaped\" bodies (more weight around the hips). This is calculated as waist measurement divided by hip measurement:\n",
    "\n",
    "$$WHR=\\frac{W}{H}$$\n",
    "\n",
    "\n",
    "WHR is used as a measurement of obesity, which in turn is a possible indicator of other more serious health conditions. The WHO states that abdominal obesity is defined as a waist-hip ratio above 0.90 for males and above 0.85 for females, or a body mass index (BMI) above 30.0.[5] The National Institute of Diabetes, Digestive and Kidney Diseases (NIDDK) states that women with waist-hip ratios of more than 0.8, and men with more than 1.0, are at increased health risk because of their fat distribution. \n",
    "\n",
    "| &nbsp;        | DGSP      | DGSP      | WHO   | WHO   | NIDDK | NIDDK |\n",
    "| ------------- | :-------: | :-------: | :---: | :---: | :---: | :---: |\n",
    "| &nbsp;        | Women     | Men       | Women | Men   | Women | Men   |\n",
    "| under-weight  | ?         | ?         | ?     | ?     | ?     | ?     |\n",
    "| normal-weight | <0.80     | <0.90     | ?     | ?     | ?     | ?     |\n",
    "| over-weight   | 0.80-0.84 | 0.90-0.99 | ?     | ?     | ?     | ?     |\n",
    "| obesity       | >0.85     | >1.00     | >0.85 | >0.90 | >0.80 | >1.00 |\n",
    "\n",
    "[Wikipedia](https://en.wikipedia.org/wiki/Waist%E2%80%93hip_ratio)"
   ]
  },
  {
   "cell_type": "markdown",
   "metadata": {},
   "source": [
    "## Source Data "
   ]
  },
  {
   "cell_type": "markdown",
   "metadata": {},
   "source": [
    "<!--- Replace the text below with a Markdown bullet list that defines the columns of the CSV file. Be sure to indicate the data type for each column. --->\n",
    "\n",
    "<!--- Example can be: ID, unique identifier of each person, integer. Remember you need to put this into a bullet list! How? [This link](https://jupyter-notebook.readthedocs.io/en/stable/examples/Notebook/Working%20With%20Markdown%20Cells.html) might help. --->\n",
    "\n",
    "<!--- These two markdown cells are required in almost any analytical report. --->\n",
    "\n",
    "* ID:\n",
    "    * Unique identifier of each person\n",
    "    * Integer\n",
    "* Waist:\n",
    "    * Waist circumference in inches\n",
    "    * Integer\n",
    "* Hip:\n",
    "    * Hip circumference in inches\n",
    "    * Integer\n",
    "* Gender:\n",
    "    * Gender of each person\n",
    "    * String - either \"M\" for male or \"F\" for female"
   ]
  },
  {
   "cell_type": "markdown",
   "metadata": {},
   "source": [
    "## Data Import\n",
    "\n",
    "For whatever type of analysis, we need to read in the data. \n",
    "\n",
    "This is the basic way how Python read-in data. \n",
    "\n",
    "For more information regarding this part, read Chapter 7 in your PY4E textbook."
   ]
  },
  {
   "cell_type": "code",
   "execution_count": 1,
   "metadata": {
    "collapsed": true
   },
   "outputs": [],
   "source": [
    "# Goal: Extract the data from the file\n",
    "\n",
    "# opens the w2h_data.csv for reading\n",
    "f = open(\"w2h_data.csv\", \"r\")\n",
    "\n",
    "# loads the file into a list of strings, one string per line\n",
    "raw_lines = list(f)\n",
    "\n",
    "# closes the file\n",
    "f.close()"
   ]
  },
  {
   "cell_type": "markdown",
   "metadata": {},
   "source": [
    "Data are not useful when they are in the wrong data type, or have wrong values, missing values... \n",
    "\n",
    "Clean up your data is an important step in any analysis."
   ]
  },
  {
   "cell_type": "code",
   "execution_count": 2,
   "metadata": {
    "collapsed": true
   },
   "outputs": [],
   "source": [
    "# Goal: Scrub and convert the data, loading it into a new list called rows\n",
    "\n",
    "# Strips out newline '\\n' characters and converts to a list\n",
    "raw_rows = [r.rstrip('\\n').split(',') for r in raw_lines] # <--- Whoa. Why does this work? \n",
    "\n",
    "# Creates a new list `rows`, starting with just the column names\n",
    "rows = list() \n",
    "rows.append(raw_rows[0]);\n",
    "\n",
    "# Convert each `raw_row`, starting with the second\n",
    "for raw_row in raw_rows[1:]:\n",
    "    \n",
    "    # Note: the values in the `raw_row` list are all strings.\n",
    "    # Create a new list called `row` that converts each item in `raw_row` to the right data type  \n",
    "    row = [int(raw_row[0]),int(raw_row[1]),int(raw_row[2]),str(raw_row[3])] # FIX THIS - make column 1 an int, column 2 an int, column 3 a str; \n",
    "    # you'll need to use conversion functions above\n",
    "    # Append the new `row` to the `rows` list\n",
    "    rows.append(row)\n",
    "    \n",
    "# from here on out use the `rows` list instead of `raw_rows` or `raw_lines`\n",
    "# You may want to print out `rows` to test whether your code above worked\n",
    "# print(rows)"
   ]
  },
  {
   "cell_type": "markdown",
   "metadata": {},
   "source": [
    "## Calculations\n",
    "\n",
    "Sometimes, the data given to you do not contain the values you need directly, you will need to calculate them somehow. \n",
    "\n",
    "In this part, you calculate two new features namely `W2H Ratio` and `Shape`."
   ]
  },
  {
   "cell_type": "code",
   "execution_count": 3,
   "metadata": {
    "collapsed": true
   },
   "outputs": [],
   "source": [
    "# Goal: For each row of data calculate and store the w2h_ratio and shape.\n",
    "\n",
    "# Adds columns for the two new features\n",
    "rows[0].extend([\"W2H Ratio\",\"Shape\"])\n",
    "\n",
    "# For each row in the rows list, calculate the waist to hips ratio and shape\n",
    "for row in rows[1:]:\n",
    "    # Calculate the w2h_ratio \n",
    "    w2h_ratio = row[1]/row[2] # FIX THIS; you will need to take care about data types - add WHR equation\n",
    "    \n",
    "    # Based on the ratio and the gender, set the variable shape to either 'Apple' or 'Pear'\n",
    "    # 'Apple' shaped is when women's w2h_ratio > 0.80 or men's w2h_ratio > 0.90\n",
    "    # 'Pear' shaped is when women's w2h_ratio <= 0.80 or men's w2h_ratio <= 0.90\n",
    "    \n",
    "    if row[3] == \"F\" : # FIX THIS; you will need to use a conditional\n",
    "        if w2h_ratio > 0.80 : \n",
    "            shape = 'Apple'\n",
    "        else :\n",
    "            shape = 'Pear'\n",
    "    elif row[3] == \"M\" :\n",
    "        if w2h_ratio > 0.90 : \n",
    "            shape = 'Apple'\n",
    "        else :\n",
    "            shape = 'Pear'\n",
    "    else:\n",
    "        print('Gender data error, please check data source')\n",
    "    \n",
    "    # Add the new data to the end of the row\n",
    "    row += [w2h_ratio, shape] # note: += is shorthand for the extend method used above\n",
    "    \n",
    "# You may want to print out `rows` to test whether your code above worked\n",
    "# print(rows)   \n",
    "    "
   ]
  },
  {
   "cell_type": "markdown",
   "metadata": {},
   "source": [
    "## Output\n",
    "\n",
    "In your analysis report, it is always helpful to display your data somehow.\n",
    "\n",
    "This is a very rudimentary way to displaying your data, including the original features and the new features you just calculated."
   ]
  },
  {
   "cell_type": "code",
   "execution_count": 4,
   "metadata": {
    "collapsed": false
   },
   "outputs": [
    {
     "data": {
      "text/html": [
       "<table><tr><th>ID</th><th>Waist</th><th>Hip</th><th>Gender</th><th>W2H Ratio</th><th>Shape</th></tr><tr><td>1</td><td>30</td><td>32</td><td>M</td><td>0.9375</td><td>Apple</td></tr><tr><td>2</td><td>32</td><td>37</td><td>M</td><td>0.8648648648648649</td><td>Pear</td></tr><tr><td>3</td><td>30</td><td>36</td><td>M</td><td>0.8333333333333334</td><td>Pear</td></tr><tr><td>4</td><td>33</td><td>39</td><td>M</td><td>0.8461538461538461</td><td>Pear</td></tr><tr><td>5</td><td>29</td><td>33</td><td>M</td><td>0.8787878787878788</td><td>Pear</td></tr><tr><td>6</td><td>32</td><td>38</td><td>M</td><td>0.8421052631578947</td><td>Pear</td></tr><tr><td>7</td><td>33</td><td>42</td><td>M</td><td>0.7857142857142857</td><td>Pear</td></tr><tr><td>8</td><td>30</td><td>40</td><td>M</td><td>0.75</td><td>Pear</td></tr><tr><td>9</td><td>30</td><td>37</td><td>M</td><td>0.8108108108108109</td><td>Pear</td></tr><tr><td>10</td><td>32</td><td>39</td><td>M</td><td>0.8205128205128205</td><td>Pear</td></tr><tr><td>11</td><td>24</td><td>35</td><td>F</td><td>0.6857142857142857</td><td>Pear</td></tr><tr><td>12</td><td>25</td><td>37</td><td>F</td><td>0.6756756756756757</td><td>Pear</td></tr><tr><td>13</td><td>24</td><td>37</td><td>F</td><td>0.6486486486486487</td><td>Pear</td></tr><tr><td>14</td><td>22</td><td>34</td><td>F</td><td>0.6470588235294118</td><td>Pear</td></tr><tr><td>15</td><td>26</td><td>38</td><td>F</td><td>0.6842105263157895</td><td>Pear</td></tr><tr><td>16</td><td>26</td><td>37</td><td>F</td><td>0.7027027027027027</td><td>Pear</td></tr><tr><td>17</td><td>25</td><td>38</td><td>F</td><td>0.6578947368421053</td><td>Pear</td></tr><tr><td>18</td><td>26</td><td>37</td><td>F</td><td>0.7027027027027027</td><td>Pear</td></tr><tr><td>19</td><td>28</td><td>40</td><td>F</td><td>0.7</td><td>Pear</td></tr><tr><td>20</td><td>23</td><td>35</td><td>F</td><td>0.6571428571428571</td><td>Pear</td></tr></table>"
      ],
      "text/plain": [
       "<IPython.core.display.HTML object>"
      ]
     },
     "metadata": {},
     "output_type": "display_data"
    }
   ],
   "source": [
    "# Goal: pretty print the rows as an HTML table\n",
    "\n",
    "# Note: this works, but we can do this much better with pandas\n",
    "html_table = '<table><tr><th>'\n",
    "html_table += \"</th><th>\".join(rows[0])\n",
    "html_table += '</th></tr>'\n",
    "for row in rows[1:]:\n",
    "    html_table += \"<tr><td>\"\n",
    "    html_table += \"</td><td>\".join(str(col) for col in row)\n",
    "    html_table += \"</td></tr>\"\n",
    "html_table += \"</table>\"\n",
    "\n",
    "from IPython.display import HTML, display\n",
    "display(HTML(html_table))"
   ]
  },
  {
   "cell_type": "markdown",
   "metadata": {},
   "source": [
    "# 10. __Discussion Questions__\n",
    "  * How long did it take you to figure out how to do a bullet list in Markdown? What other formatting tricks did you try? - Bullet list did not take long at all. Figuring out how to make the table took much longer\n",
    "  * Was there any code that you thought was particularly elegant? How about cryptic or buggy? - The code for the HTML table at the end was difficult to follow \n",
    "  * What does the code `raw_lines = list(f)` in the first code cell do exactly? Where can we learn more about loading files? Why do we bother closing the file at the end of the cell? - That code loads the raw csv file into a python list. We close the file to save memory and processor speed\n",
    "  * In the second code cell, why do we try to clean up the data all at once? Why not just deal with it as raw strings? - We need to ensure that the waist and hip data are in integer form so they can be used to calculate the WHR later in the program\n",
    "  * What is going on in the line below, also from the second code cell?  \n",
    "  ```raw_rows = [r.rstrip('\\n').split(',') for r in raw_lines]``` - A copy of the raw_lines strings are being made in which all default whitespace characters and commas have been stripped from the end of the string\n",
    "  * What does this do?  \n",
    "  ```for raw_row in raw_rows[1:]:``` - Iterates through each row of raw_rows\n",
    "  * In the third code cell, a list is extended by another list. What does that mean and how is that different from appending list items to the list? How could we do the same thing using `append()`? - Append adds the additional data as a single element at the end of the list. Since we need to add more than one element we must use extend\n",
    "  * When might the calculation \n",
    "  ```w2h_ratio = row[1]/row[2]``` give inaccurate results? - If the csv file format changes, such that columns 1 and 2 are no longer waist and hip, repectively"
   ]
  },
  {
   "cell_type": "code",
   "execution_count": null,
   "metadata": {},
   "outputs": [],
   "source": []
  }
 ],
 "metadata": {
  "kernelspec": {
   "display_name": "Python 3",
   "language": "python",
   "name": "python3"
  },
  "language_info": {
   "codemirror_mode": {
    "name": "ipython",
    "version": 3
   },
   "file_extension": ".py",
   "mimetype": "text/x-python",
   "name": "python",
   "nbconvert_exporter": "python",
   "pygments_lexer": "ipython3",
   "version": "3.6.7"
  }
 },
 "nbformat": 4,
 "nbformat_minor": 2
}
